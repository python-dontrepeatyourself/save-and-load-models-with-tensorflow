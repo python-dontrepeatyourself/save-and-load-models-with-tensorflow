{
  "nbformat": 4,
  "nbformat_minor": 0,
  "metadata": {
    "colab": {
      "name": "Save and load models with TensorFlow.ipynb",
      "provenance": [],
      "collapsed_sections": [],
      "toc_visible": true
    },
    "kernelspec": {
      "name": "python3",
      "display_name": "Python 3"
    },
    "language_info": {
      "name": "python"
    }
  },
  "cells": [
    {
      "cell_type": "markdown",
      "source": [
        "# Import Libraries and Dataset"
      ],
      "metadata": {
        "id": "zdVrUx0Hv1iL"
      }
    },
    {
      "cell_type": "code",
      "source": [
        "from sklearn.model_selection import train_test_split\n",
        "from keras.models import Sequential\n",
        "from keras.layers import Dense \n",
        "from keras.layers import Flatten \n",
        "import tensorflow as tf\n",
        "\n",
        "\n",
        "# load the dataset\n",
        "fashion_mnist = tf.keras.datasets.fashion_mnist\n",
        "(X_train, y_train), (X_test, y_test) = fashion_mnist.load_data()\n",
        "X_train, X_valid, y_train, y_valid = train_test_split(X_train, y_train,\n",
        "                                                      test_size=0.25, random_state=42)\n",
        "\n",
        "# rescale ad reshape the data\n",
        "X_train, X_valid, X_test = X_train / 255.0, X_valid / 255.0, X_test / 255.0\n",
        "X_train = X_train.reshape(-1, 28 * 28)\n",
        "X_valid = X_valid.reshape(-1, 28 * 28)\n",
        "X_test = X_test.reshape(-1, 28 * 28)\n",
        "\n",
        "# build the model\n",
        "model = Sequential([\n",
        "        Flatten(input_shape=[784]),\n",
        "        Dense(200, activation=\"relu\"),\n",
        "        Dense(100, activation=\"relu\"),\n",
        "        Dense(10, activation=\"softmax\"),\n",
        "])\n",
        "\n",
        "# compile the model\n",
        "model.compile(\n",
        "    optimizer=\"sgd\",\n",
        "    loss=\"sparse_categorical_crossentropy\",\n",
        "    metrics=[\"accuracy\"],\n",
        ")\n",
        "\n",
        "# train the model\n",
        "model.fit(X_train, y_train, \n",
        "          validation_data=(X_valid, y_valid), \n",
        "          epochs=5)"
      ],
      "metadata": {
        "colab": {
          "base_uri": "https://localhost:8080/"
        },
        "id": "T6m72Ok3TMYI",
        "outputId": "844d62eb-4641-433d-aa1d-58c444159c6e"
      },
      "execution_count": 9,
      "outputs": [
        {
          "output_type": "stream",
          "name": "stdout",
          "text": [
            "Epoch 1/5\n",
            "1407/1407 [==============================] - 7s 5ms/step - loss: 0.7755 - accuracy: 0.7419 - val_loss: 0.6479 - val_accuracy: 0.7638\n",
            "Epoch 2/5\n",
            "1407/1407 [==============================] - 4s 3ms/step - loss: 0.5127 - accuracy: 0.8240 - val_loss: 0.5200 - val_accuracy: 0.8159\n",
            "Epoch 3/5\n",
            "1407/1407 [==============================] - 5s 3ms/step - loss: 0.4623 - accuracy: 0.8399 - val_loss: 0.4846 - val_accuracy: 0.8323\n",
            "Epoch 4/5\n",
            "1407/1407 [==============================] - 4s 3ms/step - loss: 0.4350 - accuracy: 0.8489 - val_loss: 0.4422 - val_accuracy: 0.8414\n",
            "Epoch 5/5\n",
            "1407/1407 [==============================] - 5s 3ms/step - loss: 0.4134 - accuracy: 0.8554 - val_loss: 0.4151 - val_accuracy: 0.8535\n"
          ]
        },
        {
          "output_type": "execute_result",
          "data": {
            "text/plain": [
              "<keras.callbacks.History at 0x7f4a553d1850>"
            ]
          },
          "metadata": {},
          "execution_count": 9
        }
      ]
    },
    {
      "cell_type": "markdown",
      "source": [
        "# Save After Training Finishes\n",
        "\n",
        "\n"
      ],
      "metadata": {
        "id": "oBYaKLS8QFFQ"
      }
    },
    {
      "cell_type": "markdown",
      "source": [
        "## Save and restore the entire model"
      ],
      "metadata": {
        "id": "M_brJ-toQgvk"
      }
    },
    {
      "cell_type": "code",
      "source": [
        "# Save the model as a SavedModel\n",
        "model.save(\"my_model\")"
      ],
      "metadata": {
        "colab": {
          "base_uri": "https://localhost:8080/"
        },
        "id": "nFe2g9wLQcpb",
        "outputId": "c28cd9be-e803-477e-9122-7324226fb3cd"
      },
      "execution_count": 10,
      "outputs": [
        {
          "output_type": "stream",
          "name": "stdout",
          "text": [
            "INFO:tensorflow:Assets written to: my_model/assets\n"
          ]
        }
      ]
    },
    {
      "cell_type": "code",
      "source": [
        "# save in the H5 format\n",
        "model.save(\"my_model.h5\")"
      ],
      "metadata": {
        "id": "yTJg-ooCoEjV"
      },
      "execution_count": 11,
      "outputs": []
    },
    {
      "cell_type": "code",
      "source": [
        "my_new_model = tf.keras.models.load_model(\"my_model\")\n",
        "\n",
        "# evaluate the restored model\n",
        "loss, accuracy = my_new_model.evaluate(X_test, y_test)\n",
        "print(f\"accuracy: {accuracy * 100:.2f}%\")"
      ],
      "metadata": {
        "colab": {
          "base_uri": "https://localhost:8080/"
        },
        "id": "qobfJ5Z7pLAt",
        "outputId": "ccf7da97-d430-411e-9e1d-100bc05b518e"
      },
      "execution_count": 12,
      "outputs": [
        {
          "output_type": "stream",
          "name": "stdout",
          "text": [
            "313/313 [==============================] - 1s 2ms/step - loss: 0.4435 - accuracy: 0.8404\n",
            "accuracy: 84.04%\n"
          ]
        }
      ]
    },
    {
      "cell_type": "markdown",
      "source": [
        "## Save and load only the model's weights"
      ],
      "metadata": {
        "id": "Xv4XSseKQc_K"
      }
    },
    {
      "cell_type": "code",
      "source": [
        "model.save_weights(\"weights\") # use `weights.h5` to save in the HDF5 format"
      ],
      "metadata": {
        "id": "8tYHsKOzQmU-"
      },
      "execution_count": 13,
      "outputs": []
    },
    {
      "cell_type": "code",
      "source": [
        "from keras import Input\n",
        "from keras import Model\n",
        "\n",
        "# The two models need to share the same architecture\n",
        "# I created a new model using the functional API\n",
        "inputs = Input(shape=(784,))\n",
        "x = Dense(200, activation=\"relu\")(inputs)\n",
        "x = Dense(100, activation=\"relu\")(x)\n",
        "outputs = Dense(10, activation=\"softmax\")(x)\n",
        "new_model = Model(inputs=inputs, outputs=outputs)\n",
        "\n",
        "# compile the new model\n",
        "new_model.compile(\n",
        "    optimizer=\"sgd\",\n",
        "    loss=\"sparse_categorical_crossentropy\",\n",
        "    metrics=[\"accuracy\"],\n",
        ")\n",
        "\n",
        "# evaluate the new model before loading the weights\n",
        "loss, accuracy = new_model.evaluate(X_test, y_test)\n",
        "print(f\"accuracy of new model before loading weights: {accuracy * 100:.2f}%\")"
      ],
      "metadata": {
        "colab": {
          "base_uri": "https://localhost:8080/"
        },
        "id": "J5ope9TQ6UfA",
        "outputId": "25fe3c5d-d1fa-4d0e-ac97-cc8758a1c2f6"
      },
      "execution_count": 14,
      "outputs": [
        {
          "output_type": "stream",
          "name": "stdout",
          "text": [
            "313/313 [==============================] - 1s 2ms/step - loss: 2.3907 - accuracy: 0.0725\n",
            "accuracy of new model before loading weights: 7.25%\n"
          ]
        }
      ]
    },
    {
      "cell_type": "code",
      "source": [
        "# load the weights from the previous model\n",
        "new_model.load_weights(\"weights\")\n",
        "# re-evaluate the new model\n",
        "loss, accuracy = new_model.evaluate(X_test, y_test)\n",
        "print(f\"accuracy of new model after loading weights: {accuracy * 100:.2f}%\")"
      ],
      "metadata": {
        "colab": {
          "base_uri": "https://localhost:8080/"
        },
        "id": "uP1y6jTFMxb3",
        "outputId": "89fc8f68-3577-49ec-fe90-8602ea6bdb73"
      },
      "execution_count": 15,
      "outputs": [
        {
          "output_type": "stream",
          "name": "stdout",
          "text": [
            "313/313 [==============================] - 1s 2ms/step - loss: 0.4435 - accuracy: 0.8404\n",
            "accuracy of new model after loading weights: 84.04%\n"
          ]
        }
      ]
    },
    {
      "cell_type": "markdown",
      "source": [
        "#  Save Checkpoints During Training Using Callbacks\n",
        "\n"
      ],
      "metadata": {
        "id": "LXhS94myQmzF"
      }
    },
    {
      "cell_type": "markdown",
      "source": [
        "## Save and restore the entire model"
      ],
      "metadata": {
        "id": "lc7XMloBQqAQ"
      }
    },
    {
      "cell_type": "code",
      "source": [
        "from keras.callbacks import ModelCheckpoint\n",
        "\n",
        "cp_checkpoint = ModelCheckpoint(\"my_model\", verbose=1)\n",
        "\n",
        "model.fit(X_train, y_train, \n",
        "          validation_data=(X_valid, y_valid), \n",
        "          epochs=5, \n",
        "          callbacks=[cp_checkpoint])\n",
        "\n",
        "# later ...\n",
        "my_model = tf.keras.models.load_model(\"my_model\")"
      ],
      "metadata": {
        "colab": {
          "base_uri": "https://localhost:8080/"
        },
        "id": "st4MeAddiDJn",
        "outputId": "a4881b03-7cad-4b6c-8c92-d5835c66bef7"
      },
      "execution_count": 16,
      "outputs": [
        {
          "output_type": "stream",
          "name": "stdout",
          "text": [
            "Epoch 1/5\n",
            "1399/1407 [============================>.] - ETA: 0s - loss: 0.3969 - accuracy: 0.8617\n",
            "Epoch 1: saving model to my_model\n",
            "INFO:tensorflow:Assets written to: my_model/assets\n",
            "1407/1407 [==============================] - 5s 3ms/step - loss: 0.3970 - accuracy: 0.8616 - val_loss: 0.4046 - val_accuracy: 0.8585\n",
            "Epoch 2/5\n",
            "1388/1407 [============================>.] - ETA: 0s - loss: 0.3849 - accuracy: 0.8644\n",
            "Epoch 2: saving model to my_model\n",
            "INFO:tensorflow:Assets written to: my_model/assets\n",
            "1407/1407 [==============================] - 5s 3ms/step - loss: 0.3845 - accuracy: 0.8644 - val_loss: 0.4227 - val_accuracy: 0.8507\n",
            "Epoch 3/5\n",
            "1388/1407 [============================>.] - ETA: 0s - loss: 0.3711 - accuracy: 0.8691\n",
            "Epoch 3: saving model to my_model\n",
            "INFO:tensorflow:Assets written to: my_model/assets\n",
            "1407/1407 [==============================] - 5s 3ms/step - loss: 0.3715 - accuracy: 0.8689 - val_loss: 0.4091 - val_accuracy: 0.8540\n",
            "Epoch 4/5\n",
            "1385/1407 [============================>.] - ETA: 0s - loss: 0.3608 - accuracy: 0.8727\n",
            "Epoch 4: saving model to my_model\n",
            "INFO:tensorflow:Assets written to: my_model/assets\n",
            "1407/1407 [==============================] - 5s 4ms/step - loss: 0.3606 - accuracy: 0.8728 - val_loss: 0.3809 - val_accuracy: 0.8655\n",
            "Epoch 5/5\n",
            "1394/1407 [============================>.] - ETA: 0s - loss: 0.3505 - accuracy: 0.8761\n",
            "Epoch 5: saving model to my_model\n",
            "INFO:tensorflow:Assets written to: my_model/assets\n",
            "1407/1407 [==============================] - 5s 3ms/step - loss: 0.3506 - accuracy: 0.8760 - val_loss: 0.4014 - val_accuracy: 0.8589\n"
          ]
        }
      ]
    },
    {
      "cell_type": "code",
      "source": [
        "cp_checkpoint = ModelCheckpoint(\"my_model\", save_best_only=True, verbose=1)\n",
        "\n",
        "model.fit(X_train, y_train,\n",
        "          validation_data=(X_valid, y_valid),\n",
        "          epochs=5,\n",
        "          callbacks=[cp_checkpoint])\n",
        "\n",
        "# later...\n",
        "\n",
        "# load the best model\n",
        "my_model = tf.keras.models.load_model(\"my_model\")"
      ],
      "metadata": {
        "id": "yJQ0WouxjgLn",
        "colab": {
          "base_uri": "https://localhost:8080/"
        },
        "outputId": "56de3004-045b-44a6-ad0b-0226d02dfb88"
      },
      "execution_count": 17,
      "outputs": [
        {
          "output_type": "stream",
          "name": "stdout",
          "text": [
            "Epoch 1/5\n",
            "1393/1407 [============================>.] - ETA: 0s - loss: 0.3412 - accuracy: 0.8792\n",
            "Epoch 1: val_loss improved from inf to 0.40012, saving model to my_model\n",
            "WARNING:tensorflow:Detecting that an object or model or tf.train.Checkpoint is being deleted with unrestored values. See the following logs for the specific values in question. To silence these warnings, use `status.expect_partial()`. See https://www.tensorflow.org/api_docs/python/tf/train/Checkpoint#restorefor details about the status object returned by the restore function.\n",
            "WARNING:tensorflow:Value in checkpoint could not be found in the restored object: (root).optimizer.iter\n",
            "WARNING:tensorflow:Value in checkpoint could not be found in the restored object: (root).optimizer.decay\n",
            "WARNING:tensorflow:Value in checkpoint could not be found in the restored object: (root).optimizer.learning_rate\n",
            "WARNING:tensorflow:Value in checkpoint could not be found in the restored object: (root).optimizer.momentum\n",
            "INFO:tensorflow:Assets written to: my_model/assets\n",
            "1407/1407 [==============================] - 6s 4ms/step - loss: 0.3415 - accuracy: 0.8792 - val_loss: 0.4001 - val_accuracy: 0.8565\n",
            "Epoch 2/5\n",
            "1389/1407 [============================>.] - ETA: 0s - loss: 0.3342 - accuracy: 0.8814\n",
            "Epoch 2: val_loss improved from 0.40012 to 0.36384, saving model to my_model\n",
            "INFO:tensorflow:Assets written to: my_model/assets\n",
            "1407/1407 [==============================] - 5s 4ms/step - loss: 0.3346 - accuracy: 0.8813 - val_loss: 0.3638 - val_accuracy: 0.8695\n",
            "Epoch 3/5\n",
            "1389/1407 [============================>.] - ETA: 0s - loss: 0.3257 - accuracy: 0.8835\n",
            "Epoch 3: val_loss improved from 0.36384 to 0.36347, saving model to my_model\n",
            "INFO:tensorflow:Assets written to: my_model/assets\n",
            "1407/1407 [==============================] - 5s 3ms/step - loss: 0.3257 - accuracy: 0.8836 - val_loss: 0.3635 - val_accuracy: 0.8701\n",
            "Epoch 4/5\n",
            "1394/1407 [============================>.] - ETA: 0s - loss: 0.3180 - accuracy: 0.8859\n",
            "Epoch 4: val_loss improved from 0.36347 to 0.35878, saving model to my_model\n",
            "INFO:tensorflow:Assets written to: my_model/assets\n",
            "1407/1407 [==============================] - 4s 3ms/step - loss: 0.3186 - accuracy: 0.8858 - val_loss: 0.3588 - val_accuracy: 0.8705\n",
            "Epoch 5/5\n",
            "1388/1407 [============================>.] - ETA: 0s - loss: 0.3118 - accuracy: 0.8892\n",
            "Epoch 5: val_loss did not improve from 0.35878\n",
            "1407/1407 [==============================] - 5s 3ms/step - loss: 0.3122 - accuracy: 0.8888 - val_loss: 0.4575 - val_accuracy: 0.8375\n"
          ]
        }
      ]
    },
    {
      "cell_type": "markdown",
      "source": [
        "## Save and load only the model's weights\n"
      ],
      "metadata": {
        "id": "sy2SpT-EQuGf"
      }
    },
    {
      "cell_type": "code",
      "source": [
        "cp_checkpoint = ModelCheckpoint(\"weights\", \n",
        "                                save_weights_only=True,\n",
        "                                verbose=1)\n",
        "\n",
        "model.fit(X_train, y_train,\n",
        "          validation_data=(X_valid, y_valid), \n",
        "          epochs=5,\n",
        "          callbacks=[cp_checkpoint])"
      ],
      "metadata": {
        "id": "aUpJ8MTLQnx2",
        "colab": {
          "base_uri": "https://localhost:8080/"
        },
        "outputId": "bafb27e4-7342-40f2-aa70-6fc0085945d6"
      },
      "execution_count": 18,
      "outputs": [
        {
          "output_type": "stream",
          "name": "stdout",
          "text": [
            "Epoch 1/5\n",
            "1407/1407 [==============================] - ETA: 0s - loss: 0.3067 - accuracy: 0.8898\n",
            "Epoch 1: saving model to weights\n",
            "1407/1407 [==============================] - 4s 3ms/step - loss: 0.3067 - accuracy: 0.8898 - val_loss: 0.3532 - val_accuracy: 0.8753\n",
            "Epoch 2/5\n",
            "1401/1407 [============================>.] - ETA: 0s - loss: 0.3007 - accuracy: 0.8918\n",
            "Epoch 2: saving model to weights\n",
            "1407/1407 [==============================] - 5s 3ms/step - loss: 0.3012 - accuracy: 0.8916 - val_loss: 0.3625 - val_accuracy: 0.8737\n",
            "Epoch 3/5\n",
            "1393/1407 [============================>.] - ETA: 0s - loss: 0.2956 - accuracy: 0.8942\n",
            "Epoch 3: saving model to weights\n",
            "1407/1407 [==============================] - 5s 3ms/step - loss: 0.2953 - accuracy: 0.8944 - val_loss: 0.3356 - val_accuracy: 0.8798\n",
            "Epoch 4/5\n",
            "1394/1407 [============================>.] - ETA: 0s - loss: 0.2889 - accuracy: 0.8952\n",
            "Epoch 4: saving model to weights\n",
            "1407/1407 [==============================] - 4s 3ms/step - loss: 0.2889 - accuracy: 0.8950 - val_loss: 0.3656 - val_accuracy: 0.8702\n",
            "Epoch 5/5\n",
            "1392/1407 [============================>.] - ETA: 0s - loss: 0.2839 - accuracy: 0.8981\n",
            "Epoch 5: saving model to weights\n",
            "1407/1407 [==============================] - 5s 3ms/step - loss: 0.2839 - accuracy: 0.8982 - val_loss: 0.3405 - val_accuracy: 0.8793\n"
          ]
        },
        {
          "output_type": "execute_result",
          "data": {
            "text/plain": [
              "<keras.callbacks.History at 0x7f4a4d4f86d0>"
            ]
          },
          "metadata": {},
          "execution_count": 18
        }
      ]
    },
    {
      "cell_type": "code",
      "source": [
        "# Now create a new model\n",
        "inputs = Input(shape=(784,))\n",
        "x = Dense(200, activation=\"relu\")(inputs)\n",
        "x = Dense(100, activation=\"relu\")(x)\n",
        "outputs = Dense(10, activation=\"softmax\")(x)\n",
        "new_model = Model(inputs=inputs, outputs=outputs, name=\"new_model\")\n",
        "\n",
        "# compile the new model\n",
        "new_model.compile(\n",
        "    optimizer=\"sgd\",\n",
        "    loss=\"sparse_categorical_crossentropy\",\n",
        "    metrics=[\"accuracy\"],\n",
        ")\n",
        "\n",
        "# and load the weights\n",
        "new_model.load_weights(\"weights\")"
      ],
      "metadata": {
        "colab": {
          "base_uri": "https://localhost:8080/"
        },
        "id": "k4OnROeJH3Ew",
        "outputId": "1c36d1f3-04fc-468a-dde3-71271391f411"
      },
      "execution_count": 19,
      "outputs": [
        {
          "output_type": "execute_result",
          "data": {
            "text/plain": [
              "<tensorflow.python.training.tracking.util.CheckpointLoadStatus at 0x7f4a559c0510>"
            ]
          },
          "metadata": {},
          "execution_count": 19
        }
      ]
    },
    {
      "cell_type": "code",
      "source": [
        ""
      ],
      "metadata": {
        "id": "_eRk-gbOjcGU"
      },
      "execution_count": 19,
      "outputs": []
    }
  ]
}